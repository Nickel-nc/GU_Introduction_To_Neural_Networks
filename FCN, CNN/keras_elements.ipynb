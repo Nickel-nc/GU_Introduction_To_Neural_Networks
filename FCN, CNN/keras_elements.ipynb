{
 "cells": [
  {
   "cell_type": "markdown",
   "metadata": {},
   "source": [
    "## Introduction to Deep Learning. Keras Elements"
   ]
  },
  {
   "cell_type": "markdown",
   "metadata": {},
   "source": [
    "Наблюдаемый эффект от перебора параметров на датасете MNIST:\n",
    "1. \n",
    "\n"
   ]
  },
  {
   "cell_type": "code",
   "execution_count": 2,
   "metadata": {},
   "outputs": [],
   "source": [
    "import numpy as np\n",
    "import tensorflow as tf\n",
    "import keras\n",
    "from keras.utils import to_categorical\n",
    "import matplotlib.pyplot as plt\n",
    "tf.set_random_seed(42)"
   ]
  },
  {
   "cell_type": "code",
   "execution_count": 14,
   "metadata": {},
   "outputs": [
    {
     "name": "stdout",
     "output_type": "stream",
     "text": [
      "[name: \"/device:CPU:0\"\n",
      "device_type: \"CPU\"\n",
      "memory_limit: 268435456\n",
      "locality {\n",
      "}\n",
      "incarnation: 11298601394904151492\n",
      "]\n"
     ]
    }
   ],
   "source": [
    "from tensorflow.python.client import device_lib\n",
    "print(device_lib.list_local_devices())"
   ]
  },
  {
   "cell_type": "code",
   "execution_count": 12,
   "metadata": {},
   "outputs": [
    {
     "name": "stdout",
     "output_type": "stream",
     "text": [
      "2.2.4\n"
     ]
    }
   ],
   "source": [
    "print(keras.__version__)"
   ]
  },
  {
   "cell_type": "code",
   "execution_count": 3,
   "metadata": {},
   "outputs": [],
   "source": [
    "# Loads train test data\n",
    "def prepare_mnist(flatten=True, cat=True, slice=60000):\n",
    "    mnist = tf.keras.datasets.mnist\n",
    "    (x_train, y_train),(x_test, y_test) = mnist.load_data()\n",
    "    x_train = x_train/255.0\n",
    "    x_test = x_test/255.0\n",
    "    if flatten:\n",
    "        x_train = x_train.reshape((-1, 784))\n",
    "        x_test = x_test.reshape((-1, 784))\n",
    "    if cat:\n",
    "        y_train = to_categorical(y_train)\n",
    "        y_test = to_categorical(y_test)\n",
    "    return x_train[:slice], y_train[:slice], x_test, y_test\n",
    "\n",
    "# Plots first 25 images\n",
    "def plotfirst25elems(x,y,size=25):\n",
    "    o = int(np.sqrt(size))\n",
    "    if o != np.sqrt(size):\n",
    "        o += 1\n",
    "    \n",
    "    class_names = ['Zero','0ne','Two','Three','Four','Five','Six','Seven','Eight','Nine']\n",
    "    plt.figure(figsize=(7,7))\n",
    "    for i in range(size):\n",
    "        plt.subplot(o,o,i+1)\n",
    "        plt.xticks([])\n",
    "        plt.yticks([])\n",
    "        plt.grid(False)\n",
    "        plt.imshow(x[i], cmap=plt.cm.binary)\n",
    "        plt.xlabel(class_names[y[i]])\n",
    "\n",
    "# Stops training while reaching desirable accuracy \n",
    "class oneCallback(tf.keras.callbacks.Callback):\n",
    "    def on_epoch_end(self, epoch, logs={}):\n",
    "        if(logs.get('loss')>0.03):\n",
    "            print(\"\\nReached 99% accuracy so cancelling training!\")\n",
    "            self.model.stop_training = True"
   ]
  },
  {
   "cell_type": "markdown",
   "metadata": {},
   "source": [
    "#### Обзор параметров для обучения:\n",
    "\n",
    "- Обучение на выборке из 30 000 элементов\n",
    "- Обучение до достижения 99% точности\n",
    "- Лимит на кол-во эпох 5000"
   ]
  },
  {
   "cell_type": "code",
   "execution_count": 4,
   "metadata": {},
   "outputs": [
    {
     "data": {
      "image/png": "[encoded data removed]",
      "text/plain": [
       "<Figure size 504x504 with 25 Axes>"
      ]
     },
     "metadata": {},
     "output_type": "display_data"
    }
   ],
   "source": [
    "x_train, y_train, x_test, y_test = prepare_mnist(slice=30000)\n",
    "x, y, xt, yt = prepare_mnist(flatten=False, cat=False)\n",
    "plotfirst25elems(x, y)"
   ]
  },
  {
   "cell_type": "markdown",
   "metadata": {},
   "source": [
    "## Теститрование нейросети с разными параметрами"
   ]
  },
  {
   "cell_type": "markdown",
   "metadata": {},
   "source": [
    "Оценим влияние различных функций активации:\n",
    "\n",
    "На линейном выпрямителе (relu) модель обучилась до 99% точности за 11 эпох и ~59 секунд"
   ]
  },
  {
   "cell_type": "code",
   "execution_count": 114,
   "metadata": {
    "scrolled": false
   },
   "outputs": [
    {
     "name": "stdout",
     "output_type": "stream",
     "text": [
      "Epoch 1/5000\n",
      "30000/30000 [==============================] - 7s 244us/step - loss: 0.3710 - acc: 0.8922\n",
      "Epoch 2/5000\n",
      "30000/30000 [==============================] - 5s 169us/step - loss: 0.1707 - acc: 0.9489\n",
      "Epoch 3/5000\n",
      "30000/30000 [==============================] - 5s 173us/step - loss: 0.1238 - acc: 0.9625\n",
      "Epoch 4/5000\n",
      "30000/30000 [==============================] - 6s 185us/step - loss: 0.0944 - acc: 0.9713\n",
      "Epoch 5/5000\n",
      "30000/30000 [==============================] - 5s 173us/step - loss: 0.0729 - acc: 0.9771\n",
      "Epoch 6/5000\n",
      "30000/30000 [==============================] - 4s 136us/step - loss: 0.0596 - acc: 0.9814\n",
      "Epoch 7/5000\n",
      "30000/30000 [==============================] - 4s 143us/step - loss: 0.0498 - acc: 0.9842\n",
      "Epoch 8/5000\n",
      "30000/30000 [==============================] - 4s 133us/step - loss: 0.0423 - acc: 0.9868\n",
      "Epoch 9/5000\n",
      "30000/30000 [==============================] - 5s 165us/step - loss: 0.0320 - acc: 0.9896\n",
      "Epoch 10/5000\n",
      "30000/30000 [==============================] - 5s 178us/step - loss: 0.0306 - acc: 0.9897\n",
      "Epoch 11/5000\n",
      "30000/30000 [==============================] - 5s 181us/step - loss: 0.0246 - acc: 0.9920\n",
      "\n",
      "Reached 99% accuracy so cancelling training!\n",
      "Model evaluate\n",
      "10000/10000 [==============================] - 2s 159us/step\n",
      "Wall time: 58.8 s\n"
     ]
    },
    {
     "data": {
      "text/plain": [
       "[0.15854372275008355, 0.9616]"
      ]
     },
     "execution_count": 114,
     "metadata": {},
     "output_type": "execute_result"
    }
   ],
   "source": [
    "%%time\n",
    "model = keras.models.Sequential([\n",
    "    keras.layers.Dense(64, activation=tf.nn.relu),\n",
    "    keras.layers.Dense(64, activation=tf.nn.relu),\n",
    "    keras.layers.Dense(10, activation=tf.nn.softmax)\n",
    "])\n",
    "model.compile(optimizer = 'adam', loss = 'categorical_crossentropy', metrics=['accuracy'])\n",
    "callbacks = oneCallback()\n",
    "model.fit(x_train,\n",
    "          y_train,\n",
    "          epochs=5000,\n",
    "          callbacks=[callbacks])\n",
    "print('Model evaluate')\n",
    "model.evaluate(x_test, y_test)"
   ]
  },
  {
   "cell_type": "markdown",
   "metadata": {},
   "source": [
    "#### Relu - одна из простейших функций активации, заменим его распространенную функцию сигмоиды:\n",
    "\n",
    "Видно, что relu требуется меньше итераций для обучения. Аналогичный результат достиается на 25% медленнее (15 эпох), отработка 79 секунд."
   ]
  },
  {
   "cell_type": "code",
   "execution_count": 117,
   "metadata": {
    "scrolled": false
   },
   "outputs": [
    {
     "name": "stdout",
     "output_type": "stream",
     "text": [
      "Epoch 1/5000\n",
      "30000/30000 [==============================] - 8s 253us/step - loss: 0.8027 - acc: 0.8123\n",
      "Epoch 2/5000\n",
      "30000/30000 [==============================] - 5s 173us/step - loss: 0.2736 - acc: 0.9238\n",
      "Epoch 3/5000\n",
      "30000/30000 [==============================] - 5s 173us/step - loss: 0.2041 - acc: 0.9407\n",
      "Epoch 4/5000\n",
      "30000/30000 [==============================] - 5s 171us/step - loss: 0.1649 - acc: 0.9520\n",
      "Epoch 5/5000\n",
      "30000/30000 [==============================] - 5s 163us/step - loss: 0.1357 - acc: 0.9599\n",
      "Epoch 6/5000\n",
      "30000/30000 [==============================] - 4s 133us/step - loss: 0.1147 - acc: 0.9674\n",
      "Epoch 7/5000\n",
      "30000/30000 [==============================] - 5s 172us/step - loss: 0.0982 - acc: 0.9715\n",
      "Epoch 8/5000\n",
      "30000/30000 [==============================] - 5s 166us/step - loss: 0.0839 - acc: 0.9761\n",
      "Epoch 9/5000\n",
      "30000/30000 [==============================] - 5s 170us/step - loss: 0.0722 - acc: 0.9795\n",
      "Epoch 10/5000\n",
      "30000/30000 [==============================] - 5s 174us/step - loss: 0.0638 - acc: 0.9823\n",
      "Epoch 11/5000\n",
      "30000/30000 [==============================] - 5s 162us/step - loss: 0.0551 - acc: 0.9852\n",
      "Epoch 12/5000\n",
      "30000/30000 [==============================] - 5s 172us/step - loss: 0.0477 - acc: 0.9870\n",
      "Epoch 13/5000\n",
      "30000/30000 [==============================] - 5s 180us/step - loss: 0.0408 - acc: 0.9891\n",
      "Epoch 14/5000\n",
      "30000/30000 [==============================] - 5s 171us/step - loss: 0.0355 - acc: 0.9911\n",
      "Epoch 15/5000\n",
      "30000/30000 [==============================] - 4s 121us/step - loss: 0.0298 - acc: 0.9928\n",
      "\n",
      "Reached 99% accuracy so cancelling training!\n",
      "Model evaluate\n",
      "10000/10000 [==============================] - 2s 157us/step\n",
      "Wall time: 1min 19s\n"
     ]
    },
    {
     "data": {
      "text/plain": [
       "[0.12349359437096864, 0.9639]"
      ]
     },
     "execution_count": 117,
     "metadata": {},
     "output_type": "execute_result"
    }
   ],
   "source": [
    "%%time\n",
    "model = keras.models.Sequential([\n",
    "    keras.layers.Dense(64, activation=tf.nn.sigmoid),\n",
    "    keras.layers.Dense(64, activation=tf.nn.sigmoid),\n",
    "    keras.layers.Dense(10, activation=tf.nn.softmax)\n",
    "])\n",
    "model.compile(optimizer = 'adam', loss = 'categorical_crossentropy', metrics=['accuracy'])\n",
    "callbacks = oneCallback()\n",
    "model.fit(x_train,\n",
    "          y_train,\n",
    "          epochs=5000,\n",
    "          callbacks=[callbacks])\n",
    "print('Model evaluate')\n",
    "model.evaluate(x_test, y_test)"
   ]
  },
  {
   "cell_type": "markdown",
   "metadata": {},
   "source": [
    "#### Гиперболический тангенс считается отличной функцией активации для входного слоя.\n",
    "\n",
    "В результате модель быстрее обучилась, потребовалось 9 эпох, модель обучилась за 50 секунд. При этом качество обучения на тесте оставалось практически постоянным для каждого из рассмотренных"
   ]
  },
  {
   "cell_type": "code",
   "execution_count": 9,
   "metadata": {
    "scrolled": false
   },
   "outputs": [
    {
     "name": "stdout",
     "output_type": "stream",
     "text": [
      "Epoch 1/5000\n",
      "30000/30000 [==============================] - 4s 145us/step - loss: 0.3607 - acc: 0.8994\n",
      "Epoch 2/5000\n",
      "30000/30000 [==============================] - 3s 115us/step - loss: 0.1739 - acc: 0.9486\n",
      "Epoch 3/5000\n",
      "30000/30000 [==============================] - 3s 116us/step - loss: 0.1277 - acc: 0.9620\n",
      "Epoch 4/5000\n",
      "30000/30000 [==============================] - 4s 129us/step - loss: 0.0945 - acc: 0.9719\n",
      "Epoch 5/5000\n",
      "30000/30000 [==============================] - 4s 129us/step - loss: 0.0735 - acc: 0.9772\n",
      "Epoch 6/5000\n",
      "30000/30000 [==============================] - 4s 139us/step - loss: 0.0574 - acc: 0.9835\n",
      "Epoch 7/5000\n",
      "30000/30000 [==============================] - 4s 128us/step - loss: 0.0453 - acc: 0.9869\n",
      "Epoch 8/5000\n",
      "30000/30000 [==============================] - 4s 132us/step - loss: 0.0338 - acc: 0.9906\n",
      "Epoch 9/5000\n",
      "30000/30000 [==============================] - 4s 129us/step - loss: 0.0304 - acc: 0.9917\n",
      "Epoch 10/5000\n",
      "30000/30000 [==============================] - 4s 132us/step - loss: 0.0225 - acc: 0.9937\n",
      "\n",
      "Reached 99% accuracy so cancelling training!\n",
      "Model evaluate\n",
      "10000/10000 [==============================] - 1s 90us/step\n",
      "Wall time: 40.8 s\n"
     ]
    },
    {
     "data": {
      "text/plain": [
       "[0.12149570654020644, 0.9656]"
      ]
     },
     "execution_count": 9,
     "metadata": {},
     "output_type": "execute_result"
    }
   ],
   "source": [
    "%%time\n",
    "model = keras.models.Sequential([\n",
    "    keras.layers.Dense(64, activation=tf.nn.tanh),\n",
    "    keras.layers.Dense(64, activation=tf.nn.tanh),\n",
    "    keras.layers.Dense(10, activation=tf.nn.softmax)\n",
    "])\n",
    "model.compile(optimizer = 'adam', loss = 'categorical_crossentropy', metrics=['accuracy'])\n",
    "callbacks = oneCallback() \n",
    "model.fit(x_train,\n",
    "          y_train,\n",
    "          epochs=5000,\n",
    "          callbacks=[callbacks])\n",
    "\n",
    "print('Model evaluate')\n",
    "model.evaluate(x_test, y_test)"
   ]
  },
  {
   "cell_type": "markdown",
   "metadata": {},
   "source": [
    "#### Добавление слоев\n",
    "Добавление 6 дополнительных слоев увеличило сложность модели и скорость работы без особенного изменения в качестве. Данные достаточно просты, увеличение слоев избыточно"
   ]
  },
  {
   "cell_type": "code",
   "execution_count": 13,
   "metadata": {
    "scrolled": true
   },
   "outputs": [
    {
     "name": "stdout",
     "output_type": "stream",
     "text": [
      "Epoch 1/100\n",
      "30000/30000 [==============================] - 19s 638us/step - loss: 0.4282 - acc: 0.8762\n",
      "Epoch 2/100\n",
      "30000/30000 [==============================] - 18s 587us/step - loss: 0.2618 - acc: 0.9259\n",
      "Epoch 3/100\n",
      "30000/30000 [==============================] - 18s 601us/step - loss: 0.2096 - acc: 0.94032s - loss: 0.2077\n",
      "Epoch 4/100\n",
      "30000/30000 [==============================] - 18s 612us/step - loss: 0.1775 - acc: 0.9487\n",
      "Epoch 5/100\n",
      "30000/30000 [==============================] - 18s 613us/step - loss: 0.1520 - acc: 0.9560\n",
      "Epoch 6/100\n",
      "30000/30000 [==============================] - 18s 614us/step - loss: 0.1407 - acc: 0.9600\n",
      "Epoch 7/100\n",
      "30000/30000 [==============================] - 18s 613us/step - loss: 0.1258 - acc: 0.9642\n",
      "Epoch 8/100\n",
      "30000/30000 [==============================] - 19s 619us/step - loss: 0.1130 - acc: 0.96740s - loss: 0.113\n",
      "Epoch 9/100\n",
      "30000/30000 [==============================] - 20s 654us/step - loss: 0.1037 - acc: 0.9702\n",
      "Epoch 10/100\n",
      "30000/30000 [==============================] - 19s 629us/step - loss: 0.0974 - acc: 0.9707\n",
      "Epoch 11/100\n",
      "30000/30000 [==============================] - 19s 631us/step - loss: 0.0845 - acc: 0.9747\n",
      "Epoch 12/100\n",
      "30000/30000 [==============================] - 19s 632us/step - loss: 0.0798 - acc: 0.9775\n",
      "Epoch 13/100\n",
      "30000/30000 [==============================] - 19s 631us/step - loss: 0.0711 - acc: 0.9794\n",
      "Epoch 14/100\n",
      "30000/30000 [==============================] - 19s 639us/step - loss: 0.0756 - acc: 0.9776\n",
      "Epoch 15/100\n",
      "30000/30000 [==============================] - 19s 634us/step - loss: 0.0682 - acc: 0.9804\n",
      "Epoch 16/100\n",
      "30000/30000 [==============================] - 19s 632us/step - loss: 0.0652 - acc: 0.98140s - loss: 0.065\n",
      "Epoch 17/100\n",
      "30000/30000 [==============================] - 19s 633us/step - loss: 0.0662 - acc: 0.9794\n",
      "Epoch 18/100\n",
      "30000/30000 [==============================] - 19s 633us/step - loss: 0.0590 - acc: 0.9831\n",
      "Epoch 19/100\n",
      "30000/30000 [==============================] - 19s 632us/step - loss: 0.0550 - acc: 0.98400s - loss: 0.0552 \n",
      "Epoch 20/100\n",
      "30000/30000 [==============================] - 19s 634us/step - loss: 0.0629 - acc: 0.98191s - loss: 0.0632 - acc: - ETA: 0s - loss: 0.063\n",
      "Epoch 21/100\n",
      "30000/30000 [==============================] - 19s 642us/step - loss: 0.0485 - acc: 0.9862\n",
      "Epoch 22/100\n",
      "30000/30000 [==============================] - 19s 634us/step - loss: 0.0532 - acc: 0.98390s - loss: 0.0531 - acc: 0.983\n",
      "Epoch 23/100\n",
      "30000/30000 [==============================] - 19s 635us/step - loss: 0.0556 - acc: 0.9829\n",
      "Epoch 24/100\n",
      "30000/30000 [==============================] - 19s 634us/step - loss: 0.0490 - acc: 0.98627s - loss: 0.050 - ETA: 6s - loss: 0.0498 - acc: - ETA: 6s -  - \n",
      "Epoch 25/100\n",
      "30000/30000 [==============================] - 20s 664us/step - loss: 0.0462 - acc: 0.9861\n",
      "Epoch 26/100\n",
      "30000/30000 [==============================] - 19s 642us/step - loss: 0.0480 - acc: 0.9863\n",
      "Epoch 27/100\n",
      "30000/30000 [==============================] - 19s 637us/step - loss: 0.0424 - acc: 0.9876\n",
      "Epoch 28/100\n",
      "30000/30000 [==============================] - 19s 641us/step - loss: 0.0503 - acc: 0.98631s - \n",
      "Epoch 29/100\n",
      "30000/30000 [==============================] - 19s 645us/step - loss: 0.0472 - acc: 0.9865\n",
      "Epoch 30/100\n",
      "30000/30000 [==============================] - 20s 676us/step - loss: 0.0415 - acc: 0.9873\n",
      "Epoch 31/100\n",
      "30000/30000 [==============================] - 20s 656us/step - loss: 0.0400 - acc: 0.9876\n",
      "Epoch 32/100\n",
      "30000/30000 [==============================] - 19s 644us/step - loss: 0.0457 - acc: 0.98685s - - ETA: 1s - l\n",
      "Epoch 33/100\n",
      "30000/30000 [==============================] - 20s 651us/step - loss: 0.0445 - acc: 0.9870\n",
      "Epoch 34/100\n",
      "30000/30000 [==============================] - 20s 650us/step - loss: 0.0399 - acc: 0.9885\n",
      "Epoch 35/100\n",
      "30000/30000 [==============================] - 20s 654us/step - loss: 0.0380 - acc: 0.98846s - loss: 0.0367 - ETA: 5s - loss:  - ETA: 4s - loss: 0.0 - ETA: 3s - - ETA: 1s - loss: 0.0 - ETA: 0s - loss: 0.0378 - acc: 0\n",
      "Epoch 36/100\n",
      "30000/30000 [==============================] - 20s 650us/step - loss: 0.0413 - acc: 0.9875\n",
      "Epoch 37/100\n",
      "30000/30000 [==============================] - 19s 645us/step - loss: 0.0397 - acc: 0.9881\n",
      "Epoch 38/100\n",
      "30000/30000 [==============================] - 19s 643us/step - loss: 0.0339 - acc: 0.9901\n",
      "Epoch 39/100\n",
      "30000/30000 [==============================] - 19s 636us/step - loss: 0.0385 - acc: 0.9886\n",
      "Epoch 40/100\n",
      "30000/30000 [==============================] - 19s 634us/step - loss: 0.0419 - acc: 0.9873\n",
      "Epoch 41/100\n",
      "30000/30000 [==============================] - 20s 671us/step - loss: 0.0394 - acc: 0.98770s - loss: 0.0386 - acc\n",
      "Epoch 42/100\n",
      "30000/30000 [==============================] - 19s 642us/step - loss: 0.0423 - acc: 0.987412s - loss: 0.0369 - acc: 0.98 - ETA: \n",
      "Epoch 43/100\n",
      "30000/30000 [==============================] - 19s 642us/step - loss: 0.0418 - acc: 0.9874\n",
      "Epoch 44/100\n",
      "30000/30000 [==============================] - 19s 645us/step - loss: 0.0404 - acc: 0.98811s - loss: \n",
      "Epoch 45/100\n",
      "30000/30000 [==============================] - 20s 651us/step - loss: 0.0353 - acc: 0.9901\n",
      "Epoch 46/100\n",
      "30000/30000 [==============================] - 19s 648us/step - loss: 0.0399 - acc: 0.9885\n",
      "Epoch 47/100\n",
      "30000/30000 [==============================] - 20s 653us/step - loss: 0.0360 - acc: 0.9894\n",
      "Epoch 48/100\n",
      "30000/30000 [==============================] - 19s 648us/step - loss: 0.0382 - acc: 0.9879\n",
      "Epoch 49/100\n",
      "30000/30000 [==============================] - 19s 644us/step - loss: 0.0412 - acc: 0.9879\n",
      "Epoch 50/100\n",
      "30000/30000 [==============================] - 19s 649us/step - loss: 0.0323 - acc: 0.9909\n",
      "Epoch 51/100\n",
      "30000/30000 [==============================] - 19s 639us/step - loss: 0.0439 - acc: 0.9871\n",
      "Epoch 52/100\n",
      "30000/30000 [==============================] - 19s 634us/step - loss: 0.0458 - acc: 0.9865\n",
      "Epoch 53/100\n",
      "30000/30000 [==============================] - 19s 633us/step - loss: 0.0332 - acc: 0.9902\n",
      "Epoch 54/100\n",
      "30000/30000 [==============================] - 19s 643us/step - loss: 0.0391 - acc: 0.9885\n",
      "Epoch 55/100\n",
      "30000/30000 [==============================] - 19s 641us/step - loss: 0.0400 - acc: 0.9883\n",
      "Epoch 56/100\n",
      "30000/30000 [==============================] - 19s 643us/step - loss: 0.0381 - acc: 0.9884\n",
      "Epoch 57/100\n",
      "30000/30000 [==============================] - 20s 659us/step - loss: 0.0298 - acc: 0.9910\n",
      "\n",
      "Reached 99% accuracy so cancelling training!\n",
      "Model evaluate\n",
      "10000/10000 [==============================] - 2s 153us/step\n",
      "Wall time: 18min 14s\n"
     ]
    },
    {
     "data": {
      "text/plain": [
       "[0.178342654052563, 0.9615]"
      ]
     },
     "execution_count": 13,
     "metadata": {},
     "output_type": "execute_result"
    }
   ],
   "source": [
    "%%time\n",
    "model = keras.models.Sequential([\n",
    "    keras.layers.Dense(784, activation=tf.nn.tanh),\n",
    "    keras.layers.Dense(672, activation=tf.nn.tanh),\n",
    "    keras.layers.Dense(560, activation=tf.nn.tanh),\n",
    "    keras.layers.Dense(450, activation=tf.nn.tanh),\n",
    "    keras.layers.Dense(340, activation=tf.nn.tanh),\n",
    "    keras.layers.Dense(230, activation=tf.nn.tanh),\n",
    "    keras.layers.Dense(128, activation=tf.nn.tanh),\n",
    "    keras.layers.Dense(64, activation=tf.nn.tanh),\n",
    "    keras.layers.Dense(10, activation=tf.nn.softmax)\n",
    "])\n",
    "model.compile(optimizer = 'adam', loss = 'categorical_crossentropy', metrics=['accuracy'])\n",
    "callbacks = oneCallback()\n",
    "model.fit(x_train,\n",
    "          y_train,\n",
    "          epochs=100,\n",
    "          callbacks=[callbacks])\n",
    "print('Model evaluate')\n",
    "model.evaluate(x_test, y_test)"
   ]
  },
  {
   "cell_type": "markdown",
   "metadata": {},
   "source": [
    "#### Снижение числа слоев\n",
    "Снижение слоев до 2-х сократило время обработки без ухудшения качества."
   ]
  },
  {
   "cell_type": "code",
   "execution_count": 14,
   "metadata": {},
   "outputs": [
    {
     "name": "stdout",
     "output_type": "stream",
     "text": [
      "Epoch 1/5000\n",
      "30000/30000 [==============================] - 5s 170us/step - loss: 0.3888 - acc: 0.8924\n",
      "Epoch 2/5000\n",
      "30000/30000 [==============================] - 4s 123us/step - loss: 0.2055 - acc: 0.9408\n",
      "Epoch 3/5000\n",
      "30000/30000 [==============================] - 4s 122us/step - loss: 0.1543 - acc: 0.9551\n",
      "Epoch 4/5000\n",
      "30000/30000 [==============================] - 4s 121us/step - loss: 0.1225 - acc: 0.9648\n",
      "Epoch 5/5000\n",
      "30000/30000 [==============================] - 4s 120us/step - loss: 0.1000 - acc: 0.9717\n",
      "Epoch 6/5000\n",
      "30000/30000 [==============================] - 3s 112us/step - loss: 0.0822 - acc: 0.9778\n",
      "Epoch 7/5000\n",
      "30000/30000 [==============================] - 3s 114us/step - loss: 0.0680 - acc: 0.9816\n",
      "Epoch 8/5000\n",
      "30000/30000 [==============================] - 4s 122us/step - loss: 0.0570 - acc: 0.9851\n",
      "Epoch 9/5000\n",
      "30000/30000 [==============================] - 4s 120us/step - loss: 0.0479 - acc: 0.9882\n",
      "Epoch 10/5000\n",
      "30000/30000 [==============================] - 3s 112us/step - loss: 0.0397 - acc: 0.9905\n",
      "Epoch 11/5000\n",
      "30000/30000 [==============================] - 3s 114us/step - loss: 0.0324 - acc: 0.9929\n",
      "Epoch 12/5000\n",
      "30000/30000 [==============================] - 3s 115us/step - loss: 0.0276 - acc: 0.9944\n",
      "\n",
      "Reached 99% accuracy so cancelling training!\n",
      "Model evaluate\n",
      "10000/10000 [==============================] - 1s 83us/step\n",
      "Wall time: 45.6 s\n"
     ]
    },
    {
     "data": {
      "text/plain": [
       "[0.11404674614295364, 0.9656]"
      ]
     },
     "execution_count": 14,
     "metadata": {},
     "output_type": "execute_result"
    }
   ],
   "source": [
    "%%time\n",
    "model = keras.models.Sequential([\n",
    "    keras.layers.Dense(64, activation=tf.nn.tanh),\n",
    "    keras.layers.Dense(10, activation=tf.nn.softmax)\n",
    "])\n",
    "model.compile(optimizer = 'adam', loss = 'categorical_crossentropy', metrics=['accuracy'])\n",
    "callbacks = oneCallback()\n",
    "model.fit(x_train,\n",
    "          y_train,\n",
    "          epochs=5000,\n",
    "          callbacks=[callbacks])\n",
    "print('Model evaluate')\n",
    "model.evaluate(x_test, y_test)"
   ]
  },
  {
   "cell_type": "markdown",
   "metadata": {},
   "source": [
    "#### Оценка влияния размера батча на обучении\n",
    "Сокращает время обработки одной эпохи, увеличивает количество проходов для достижение аналогичной результата. На текущих данных, увеличивает быстродействие модели"
   ]
  },
  {
   "cell_type": "code",
   "execution_count": 26,
   "metadata": {},
   "outputs": [
    {
     "name": "stdout",
     "output_type": "stream",
     "text": [
      "Epoch 1/30\n",
      "30000/30000 [==============================] - 5s 166us/step - loss: 0.3740 - acc: 0.8928\n",
      "Epoch 2/30\n",
      "30000/30000 [==============================] - 3s 105us/step - loss: 0.1795 - acc: 0.9473\n",
      "Epoch 3/30\n",
      "30000/30000 [==============================] - 3s 103us/step - loss: 0.1257 - acc: 0.9629\n",
      "Epoch 4/30\n",
      "30000/30000 [==============================] - 3s 105us/step - loss: 0.0926 - acc: 0.9725\n",
      "Epoch 5/30\n",
      "30000/30000 [==============================] - 3s 106us/step - loss: 0.0672 - acc: 0.9800\n",
      "Epoch 6/30\n",
      "30000/30000 [==============================] - 3s 103us/step - loss: 0.0529 - acc: 0.9849\n",
      "Epoch 7/30\n",
      "30000/30000 [==============================] - 3s 113us/step - loss: 0.0396 - acc: 0.9893\n",
      "Epoch 8/30\n",
      "30000/30000 [==============================] - 4s 119us/step - loss: 0.0304 - acc: 0.9921\n",
      "Epoch 9/30\n",
      "30000/30000 [==============================] - 4s 124us/step - loss: 0.0213 - acc: 0.9951\n",
      "\n",
      "Reached 99% accuracy so cancelling training!\n",
      "Model evaluate\n",
      "10000/10000 [==============================] - 1s 135us/step\n",
      "Wall time: 33.7 s\n"
     ]
    },
    {
     "data": {
      "text/plain": [
       "[0.09585594695070758, 0.9721]"
      ]
     },
     "execution_count": 26,
     "metadata": {},
     "output_type": "execute_result"
    }
   ],
   "source": [
    "%%time\n",
    "model = keras.models.Sequential([\n",
    "    keras.layers.Dense(128, activation=tf.nn.tanh),\n",
    "    keras.layers.Dense(64, activation=tf.nn.tanh),\n",
    "    keras.layers.Dense(10, activation=tf.nn.softmax)\n",
    "])\n",
    "model.compile(optimizer = 'adam', loss = 'categorical_crossentropy', metrics=['accuracy'])\n",
    "callbacks = oneCallback()\n",
    "model.fit(x_train,\n",
    "          y_train,\n",
    "          epochs=30,\n",
    "          batch_size=50,\n",
    "          callbacks=[callbacks])\n",
    "print('Model evaluate')\n",
    "model.evaluate(x_test, y_test)"
   ]
  },
  {
   "cell_type": "code",
   "execution_count": 27,
   "metadata": {},
   "outputs": [
    {
     "name": "stdout",
     "output_type": "stream",
     "text": [
      "Epoch 1/30\n",
      "30000/30000 [==============================] - 3s 94us/step - loss: 1.0077 - acc: 0.7325\n",
      "Epoch 2/30\n",
      "30000/30000 [==============================] - 1s 26us/step - loss: 0.4070 - acc: 0.8930\n",
      "Epoch 3/30\n",
      "30000/30000 [==============================] - 1s 27us/step - loss: 0.3156 - acc: 0.9141\n",
      "Epoch 4/30\n",
      "30000/30000 [==============================] - 1s 28us/step - loss: 0.2725 - acc: 0.9252\n",
      "Epoch 5/30\n",
      "30000/30000 [==============================] - 1s 27us/step - loss: 0.2436 - acc: 0.9321\n",
      "Epoch 6/30\n",
      "30000/30000 [==============================] - 1s 29us/step - loss: 0.2212 - acc: 0.9383\n",
      "Epoch 7/30\n",
      "30000/30000 [==============================] - 1s 27us/step - loss: 0.2007 - acc: 0.9439\n",
      "Epoch 8/30\n",
      "30000/30000 [==============================] - 1s 27us/step - loss: 0.1837 - acc: 0.9492\n",
      "Epoch 9/30\n",
      "30000/30000 [==============================] - 1s 27us/step - loss: 0.1682 - acc: 0.9535\n",
      "Epoch 10/30\n",
      "30000/30000 [==============================] - 1s 26us/step - loss: 0.1551 - acc: 0.9563\n",
      "Epoch 11/30\n",
      "30000/30000 [==============================] - 1s 24us/step - loss: 0.1427 - acc: 0.9600\n",
      "Epoch 12/30\n",
      "30000/30000 [==============================] - 1s 27us/step - loss: 0.1307 - acc: 0.9633\n",
      "Epoch 13/30\n",
      "30000/30000 [==============================] - 1s 27us/step - loss: 0.1212 - acc: 0.9665\n",
      "Epoch 14/30\n",
      "30000/30000 [==============================] - 1s 27us/step - loss: 0.1122 - acc: 0.9694\n",
      "Epoch 15/30\n",
      "30000/30000 [==============================] - 1s 25us/step - loss: 0.1037 - acc: 0.9721\n",
      "Epoch 16/30\n",
      "30000/30000 [==============================] - 1s 27us/step - loss: 0.0962 - acc: 0.9742\n",
      "Epoch 17/30\n",
      "30000/30000 [==============================] - 1s 26us/step - loss: 0.0885 - acc: 0.9772\n",
      "Epoch 18/30\n",
      "30000/30000 [==============================] - 1s 28us/step - loss: 0.0825 - acc: 0.9789\n",
      "Epoch 19/30\n",
      "30000/30000 [==============================] - 1s 27us/step - loss: 0.0772 - acc: 0.9808\n",
      "Epoch 20/30\n",
      "30000/30000 [==============================] - 1s 27us/step - loss: 0.0712 - acc: 0.9823\n",
      "Epoch 21/30\n",
      "30000/30000 [==============================] - 1s 26us/step - loss: 0.0662 - acc: 0.9839\n",
      "Epoch 22/30\n",
      "30000/30000 [==============================] - 1s 28us/step - loss: 0.0613 - acc: 0.9855\n",
      "Epoch 23/30\n",
      "30000/30000 [==============================] - 1s 26us/step - loss: 0.0560 - acc: 0.9872\n",
      "Epoch 24/30\n",
      "30000/30000 [==============================] - 1s 28us/step - loss: 0.0517 - acc: 0.9881\n",
      "Epoch 25/30\n",
      "30000/30000 [==============================] - 1s 26us/step - loss: 0.0480 - acc: 0.9889\n",
      "Epoch 26/30\n",
      "30000/30000 [==============================] - 1s 26us/step - loss: 0.0441 - acc: 0.9907\n",
      "Epoch 27/30\n",
      "30000/30000 [==============================] - 1s 26us/step - loss: 0.0413 - acc: 0.9917: 0s - loss: 0.0406 - acc: 0.\n",
      "Epoch 28/30\n",
      "30000/30000 [==============================] - 1s 26us/step - loss: 0.0379 - acc: 0.9925\n",
      "Epoch 29/30\n",
      "30000/30000 [==============================] - 1s 26us/step - loss: 0.0346 - acc: 0.9936\n",
      "Epoch 30/30\n",
      "30000/30000 [==============================] - 1s 26us/step - loss: 0.0321 - acc: 0.9938\n",
      "Model evaluate\n",
      "10000/10000 [==============================] - 1s 126us/step\n",
      "Wall time: 28.3 s\n"
     ]
    },
    {
     "data": {
      "text/plain": [
       "[0.10603048442732543, 0.9702]"
      ]
     },
     "execution_count": 27,
     "metadata": {},
     "output_type": "execute_result"
    }
   ],
   "source": [
    "%%time\n",
    "model = keras.models.Sequential([\n",
    "    keras.layers.Dense(128, activation=tf.nn.tanh),\n",
    "    keras.layers.Dense(64, activation=tf.nn.tanh),\n",
    "    keras.layers.Dense(10, activation=tf.nn.softmax)\n",
    "])\n",
    "model.compile(optimizer = 'adam', loss = 'categorical_crossentropy', metrics=['accuracy'])\n",
    "callbacks = oneCallback()\n",
    "model.fit(x_train,\n",
    "          y_train,\n",
    "          epochs=30,\n",
    "          batch_size=1000,\n",
    "          callbacks=[callbacks])\n",
    "print('Model evaluate')\n",
    "model.evaluate(x_test, y_test)"
   ]
  },
  {
   "cell_type": "markdown",
   "metadata": {},
   "source": [
    "#### Оценка возможности 100% обучения\n",
    "Обучение до 100% результата на тренеровочных данных ведет к запоминанию результатов, не увеличивая качество на тесте, чем больше размеченных данных для обучения, тем выше точность на тесте "
   ]
  },
  {
   "cell_type": "code",
   "execution_count": 30,
   "metadata": {
    "scrolled": true
   },
   "outputs": [
    {
     "name": "stdout",
     "output_type": "stream",
     "text": [
      "Epoch 1/30\n",
      "60000/60000 [==============================] - 9s 155us/step - loss: 0.3143 - acc: 0.9119\n",
      "Epoch 2/30\n",
      "60000/60000 [==============================] - 8s 132us/step - loss: 0.1603 - acc: 0.9529\n",
      "Epoch 3/30\n",
      "60000/60000 [==============================] - 8s 132us/step - loss: 0.1181 - acc: 0.9660\n",
      "Epoch 4/30\n",
      "60000/60000 [==============================] - 8s 133us/step - loss: 0.0939 - acc: 0.9730\n",
      "Epoch 5/30\n",
      "60000/60000 [==============================] - 8s 135us/step - loss: 0.0760 - acc: 0.9780\n",
      "Epoch 6/30\n",
      "60000/60000 [==============================] - 8s 135us/step - loss: 0.0631 - acc: 0.9818\n",
      "Epoch 7/30\n",
      "60000/60000 [==============================] - 7s 118us/step - loss: 0.0533 - acc: 0.9849\n",
      "Epoch 8/30\n",
      "60000/60000 [==============================] - 8s 129us/step - loss: 0.0455 - acc: 0.9874\n",
      "Epoch 9/30\n",
      "60000/60000 [==============================] - 8s 134us/step - loss: 0.0391 - acc: 0.9887\n",
      "Epoch 10/30\n",
      "60000/60000 [==============================] - 9s 142us/step - loss: 0.0336 - acc: 0.9908\n",
      "Epoch 11/30\n",
      "60000/60000 [==============================] - 9s 143us/step - loss: 0.0288 - acc: 0.9926\n",
      "Epoch 12/30\n",
      "60000/60000 [==============================] - 8s 129us/step - loss: 0.0246 - acc: 0.9939\n",
      "Epoch 13/30\n",
      "60000/60000 [==============================] - 8s 125us/step - loss: 0.0213 - acc: 0.9949\n",
      "Epoch 14/30\n",
      "60000/60000 [==============================] - 7s 123us/step - loss: 0.0189 - acc: 0.9955\n",
      "Epoch 15/30\n",
      "60000/60000 [==============================] - 7s 122us/step - loss: 0.0166 - acc: 0.9959\n",
      "Epoch 16/30\n",
      "60000/60000 [==============================] - 8s 133us/step - loss: 0.0147 - acc: 0.9966\n",
      "Epoch 17/30\n",
      "60000/60000 [==============================] - 8s 139us/step - loss: 0.0126 - acc: 0.9973\n",
      "Epoch 18/30\n",
      "60000/60000 [==============================] - 9s 143us/step - loss: 0.0112 - acc: 0.9978\n",
      "Epoch 19/30\n",
      "60000/60000 [==============================] - 8s 131us/step - loss: 0.0097 - acc: 0.9981\n",
      "Epoch 20/30\n",
      "60000/60000 [==============================] - 8s 139us/step - loss: 0.0082 - acc: 0.9987\n",
      "Epoch 21/30\n",
      "60000/60000 [==============================] - 8s 140us/step - loss: 0.0073 - acc: 0.9988\n",
      "Epoch 22/30\n",
      "60000/60000 [==============================] - 7s 125us/step - loss: 0.0072 - acc: 0.9988\n",
      "Epoch 23/30\n",
      "60000/60000 [==============================] - 8s 126us/step - loss: 0.0062 - acc: 0.9990\n",
      "Epoch 24/30\n",
      "60000/60000 [==============================] - 8s 130us/step - loss: 0.0056 - acc: 0.9990\n",
      "Epoch 25/30\n",
      "60000/60000 [==============================] - 9s 147us/step - loss: 0.0056 - acc: 0.9991\n",
      "Epoch 26/30\n",
      "60000/60000 [==============================] - 9s 153us/step - loss: 0.0044 - acc: 0.9993\n",
      "Epoch 27/30\n",
      "60000/60000 [==============================] - ETA: 0s - loss: 0.0051 - acc: 0.999 - 9s 147us/step - loss: 0.0051 - acc: 0.9990\n",
      "Epoch 28/30\n",
      "60000/60000 [==============================] - 9s 143us/step - loss: 0.0043 - acc: 0.9993\n",
      "Epoch 29/30\n",
      "60000/60000 [==============================] - 9s 145us/step - loss: 0.0040 - acc: 0.9994\n",
      "Epoch 30/30\n",
      "60000/60000 [==============================] - 9s 151us/step - loss: 0.0030 - acc: 0.9997\n",
      "Model evaluate\n",
      "10000/10000 [==============================] - 1s 125us/step\n",
      "Wall time: 4min 8s\n"
     ]
    },
    {
     "data": {
      "text/plain": [
       "[0.1223906021032999, 0.9727]"
      ]
     },
     "execution_count": 30,
     "metadata": {},
     "output_type": "execute_result"
    }
   ],
   "source": [
    "%%time\n",
    "x_train, y_train, x_test, y_test = prepare_mnist(slice=60000)\n",
    "model = keras.models.Sequential([\n",
    "    keras.layers.Dense(64, activation=tf.nn.tanh),\n",
    "    keras.layers.Dense(10, activation=tf.nn.softmax)\n",
    "])\n",
    "model.compile(optimizer = 'adam', loss = 'categorical_crossentropy', metrics=['accuracy'])\n",
    "callbacks = oneCallback()\n",
    "model.fit(x_train,\n",
    "          y_train,\n",
    "          epochs=30)\n",
    "print('Model evaluate')\n",
    "model.evaluate(x_test, y_test)"
   ]
  },
  {
   "cell_type": "code",
   "execution_count": 32,
   "metadata": {},
   "outputs": [
    {
     "data": {
      "text/plain": [
       "{'name': 'sequential_19',\n",
       " 'layers': [{'class_name': 'Dense',\n",
       "   'config': {'name': 'dense_62',\n",
       "    'trainable': True,\n",
       "    'units': 64,\n",
       "    'activation': 'tanh',\n",
       "    'use_bias': True,\n",
       "    'kernel_initializer': {'class_name': 'VarianceScaling',\n",
       "     'config': {'scale': 1.0,\n",
       "      'mode': 'fan_avg',\n",
       "      'distribution': 'uniform',\n",
       "      'seed': None}},\n",
       "    'bias_initializer': {'class_name': 'Zeros', 'config': {}},\n",
       "    'kernel_regularizer': None,\n",
       "    'bias_regularizer': None,\n",
       "    'activity_regularizer': None,\n",
       "    'kernel_constraint': None,\n",
       "    'bias_constraint': None}},\n",
       "  {'class_name': 'Dense',\n",
       "   'config': {'name': 'dense_63',\n",
       "    'trainable': True,\n",
       "    'units': 10,\n",
       "    'activation': 'softmax',\n",
       "    'use_bias': True,\n",
       "    'kernel_initializer': {'class_name': 'VarianceScaling',\n",
       "     'config': {'scale': 1.0,\n",
       "      'mode': 'fan_avg',\n",
       "      'distribution': 'uniform',\n",
       "      'seed': None}},\n",
       "    'bias_initializer': {'class_name': 'Zeros', 'config': {}},\n",
       "    'kernel_regularizer': None,\n",
       "    'bias_regularizer': None,\n",
       "    'activity_regularizer': None,\n",
       "    'kernel_constraint': None,\n",
       "    'bias_constraint': None}}],\n",
       " 'build_input_shape': (None, 784)}"
      ]
     },
     "execution_count": 32,
     "metadata": {},
     "output_type": "execute_result"
    }
   ],
   "source": [
    "config = model.get_config()\n",
    "config"
   ]
  },
  {
   "cell_type": "markdown",
   "metadata": {},
   "source": [
    "#### Обертка модели в класс\n"
   ]
  },
  {
   "cell_type": "code",
   "execution_count": 45,
   "metadata": {},
   "outputs": [
    {
     "name": "stdout",
     "output_type": "stream",
     "text": [
      "Epoch 1/30\n",
      "30000/30000 [==============================] - 7s 239us/step - loss: 0.3685 - acc: 0.8965\n",
      "Epoch 2/30\n",
      "30000/30000 [==============================] - 5s 150us/step - loss: 0.1760 - acc: 0.9480\n",
      "Epoch 3/30\n",
      "30000/30000 [==============================] - 4s 148us/step - loss: 0.1250 - acc: 0.9631\n",
      "Epoch 4/30\n",
      "30000/30000 [==============================] - 4s 147us/step - loss: 0.0951 - acc: 0.9714\n",
      "Epoch 5/30\n",
      "30000/30000 [==============================] - 4s 148us/step - loss: 0.0712 - acc: 0.9781\n",
      "Epoch 6/30\n",
      "30000/30000 [==============================] - 5s 153us/step - loss: 0.0556 - acc: 0.9838\n",
      "Epoch 7/30\n",
      "30000/30000 [==============================] - 5s 152us/step - loss: 0.0435 - acc: 0.9870\n",
      "Epoch 8/30\n",
      "30000/30000 [==============================] - 5s 152us/step - loss: 0.0343 - acc: 0.9896\n",
      "Epoch 9/30\n",
      "30000/30000 [==============================] - 4s 144us/step - loss: 0.0287 - acc: 0.9912\n",
      "\n",
      "Reached 99% accuracy so cancelling training!\n",
      "Model evaluate\n",
      "10000/10000 [==============================] - 1s 148us/step\n"
     ]
    },
    {
     "data": {
      "text/plain": [
       "[0.1090335748577956, 0.9686]"
      ]
     },
     "execution_count": 45,
     "metadata": {},
     "output_type": "execute_result"
    }
   ],
   "source": [
    "class MnistNet(keras.Model):\n",
    "\n",
    "    def __init__(self, use_bn=False, use_dp=False, num_classes=10):\n",
    "        super(MnistNet, self).__init__(name='mnist')\n",
    "        self.use_bn = use_bn\n",
    "        self.use_dp = use_dp\n",
    "        self.num_classes = num_classes\n",
    "\n",
    "        self.dense1 = keras.layers.Dense(64, activation='tanh')\n",
    "        self.dense2 = keras.layers.Dense(64, activation='tanh')\n",
    "        self.dense3 = keras.layers.Dense(num_classes, activation='softmax')\n",
    "        if self.use_dp:\n",
    "            self.dp = keras.layers.Dropout(0.5)\n",
    "        if self.use_bn:\n",
    "            self.bn = keras.layers.BatchNormalization(axis=-1)\n",
    "\n",
    "    def call(self, inputs):\n",
    "        x = self.dense1(inputs)\n",
    "        if self.use_dp:\n",
    "            x = self.dp(x)\n",
    "        if self.use_bn:\n",
    "            x = self.bn(x)       \n",
    "        x = self.dense2(x)\n",
    "        if self.use_dp:\n",
    "            x = self.dp(x)\n",
    "        if self.use_bn:\n",
    "            x = self.bn(x)\n",
    "        return self.dense3(x)\n",
    "\n",
    "model = MnistNet()\n",
    "model.compile(optimizer = 'adam', loss = 'categorical_crossentropy', metrics=['accuracy'])\n",
    "callbacks = oneCallback()\n",
    "model.fit(x_train,\n",
    "          y_train,\n",
    "          epochs=30,\n",
    "          callbacks=[callbacks])\n",
    "print('Model evaluate')\n",
    "model.evaluate(x_test, y_test)"
   ]
  },
  {
   "cell_type": "markdown",
   "metadata": {},
   "source": [
    "Использование dropout показало снижение скорости обучения.  Т.к. предыдущие модели не обнаружили высокую переобучаемость, поэтому использование dropout избыточно для MNIST:"
   ]
  },
  {
   "cell_type": "code",
   "execution_count": 46,
   "metadata": {},
   "outputs": [
    {
     "name": "stdout",
     "output_type": "stream",
     "text": [
      "Epoch 1/30\n",
      "30000/30000 [==============================] - 8s 269us/step - loss: 0.7016 - acc: 0.7812\n",
      "Epoch 2/30\n",
      "30000/30000 [==============================] - 5s 169us/step - loss: 0.4574 - acc: 0.8638\n",
      "Epoch 3/30\n",
      "30000/30000 [==============================] - 5s 172us/step - loss: 0.4046 - acc: 0.8828\n",
      "Epoch 4/30\n",
      "30000/30000 [==============================] - 5s 172us/step - loss: 0.3789 - acc: 0.8880\n",
      "Epoch 5/30\n",
      "30000/30000 [==============================] - 5s 167us/step - loss: 0.3518 - acc: 0.8970\n",
      "Epoch 6/30\n",
      "30000/30000 [==============================] - 5s 180us/step - loss: 0.3384 - acc: 0.9004\n",
      "Epoch 7/30\n",
      "30000/30000 [==============================] - 5s 178us/step - loss: 0.3326 - acc: 0.9026\n",
      "Epoch 8/30\n",
      "30000/30000 [==============================] - 5s 176us/step - loss: 0.3162 - acc: 0.9073\n",
      "Epoch 9/30\n",
      "30000/30000 [==============================] - 5s 160us/step - loss: 0.3078 - acc: 0.9101\n",
      "Epoch 10/30\n",
      "30000/30000 [==============================] - 5s 167us/step - loss: 0.3064 - acc: 0.9106\n",
      "Epoch 11/30\n",
      "30000/30000 [==============================] - 5s 182us/step - loss: 0.2948 - acc: 0.9134\n",
      "Epoch 12/30\n",
      "30000/30000 [==============================] - 5s 181us/step - loss: 0.2864 - acc: 0.9169\n",
      "Epoch 13/30\n",
      "30000/30000 [==============================] - 5s 180us/step - loss: 0.2757 - acc: 0.9194\n",
      "Epoch 14/30\n",
      "30000/30000 [==============================] - 5s 178us/step - loss: 0.2725 - acc: 0.9195\n",
      "Epoch 15/30\n",
      "30000/30000 [==============================] - 6s 196us/step - loss: 0.2681 - acc: 0.9222\n",
      "Epoch 16/30\n",
      "30000/30000 [==============================] - 6s 193us/step - loss: 0.2635 - acc: 0.9235\n",
      "Epoch 17/30\n",
      "30000/30000 [==============================] - 5s 163us/step - loss: 0.2644 - acc: 0.9225\n",
      "Epoch 18/30\n",
      "30000/30000 [==============================] - 4s 129us/step - loss: 0.2588 - acc: 0.9237\n",
      "Epoch 19/30\n",
      "30000/30000 [==============================] - 4s 141us/step - loss: 0.2519 - acc: 0.9270\n",
      "Epoch 20/30\n",
      "30000/30000 [==============================] - 8s 265us/step - loss: 0.2557 - acc: 0.9258 2s - loss: 0.2573 - acc: 0.925 - \n",
      "Epoch 21/30\n",
      "30000/30000 [==============================] - 6s 209us/step - loss: 0.2538 - acc: 0.9250\n",
      "Epoch 22/30\n",
      "30000/30000 [==============================] - 15s 511us/step - loss: 0.2447 - acc: 0.92984s - loss: 0 - ETA: 4s - loss: 0.2354 - acc: 0.9 - ET - ETA: \n",
      "Epoch 23/30\n",
      "30000/30000 [==============================] - 9s 306us/step - loss: 0.2371 - acc: 0.9308\n",
      "Epoch 24/30\n",
      "30000/30000 [==============================] - 5s 183us/step - loss: 0.2420 - acc: 0.9284\n",
      "Epoch 25/30\n",
      "30000/30000 [==============================] - 5s 168us/step - loss: 0.2387 - acc: 0.9307\n",
      "Epoch 26/30\n",
      "30000/30000 [==============================] - 5s 179us/step - loss: 0.2347 - acc: 0.9327\n",
      "Epoch 27/30\n",
      "30000/30000 [==============================] - 5s 177us/step - loss: 0.2307 - acc: 0.9320\n",
      "Epoch 28/30\n",
      "30000/30000 [==============================] - 5s 169us/step - loss: 0.2333 - acc: 0.9306\n",
      "Epoch 29/30\n",
      "30000/30000 [==============================] - 5s 178us/step - loss: 0.2276 - acc: 0.9338\n",
      "Epoch 30/30\n",
      "30000/30000 [==============================] - 5s 177us/step - loss: 0.2264 - acc: 0.9337\n",
      "Model evaluate\n",
      "10000/10000 [==============================] - 2s 167us/step\n"
     ]
    },
    {
     "data": {
      "text/plain": [
       "[0.16953961204253137, 0.9526]"
      ]
     },
     "execution_count": 46,
     "metadata": {},
     "output_type": "execute_result"
    }
   ],
   "source": [
    "model = MnistNet(use_dp=True) # Использует dropout\n",
    "model.compile(optimizer = 'adam', loss = 'categorical_crossentropy', metrics=['accuracy'])\n",
    "callbacks = oneCallback()\n",
    "model.fit(x_train,\n",
    "          y_train,\n",
    "          epochs=30,\n",
    "          callbacks=[callbacks])\n",
    "print('Model evaluate')\n",
    "model.evaluate(x_test, y_test)"
   ]
  },
  {
   "cell_type": "code",
   "execution_count": 57,
   "metadata": {},
   "outputs": [
    {
     "name": "stdout",
     "output_type": "stream",
     "text": [
      "Epoch 1/10\n",
      "10/10 [==============================] - 6s 599ms/step - loss: 1.8051 - acc: 0.4721\n",
      "Epoch 2/10\n",
      "10/10 [==============================] - 3s 332ms/step - loss: 1.0545 - acc: 0.7672\n",
      "Epoch 3/10\n",
      "10/10 [==============================] - 3s 304ms/step - loss: 0.7332 - acc: 0.8317\n",
      "Epoch 4/10\n",
      "10/10 [==============================] - 3s 309ms/step - loss: 0.5690 - acc: 0.8643\n",
      "Epoch 5/10\n",
      "10/10 [==============================] - 3s 317ms/step - loss: 0.4735 - acc: 0.8823\n",
      "Epoch 6/10\n",
      "10/10 [==============================] - 3s 323ms/step - loss: 0.4136 - acc: 0.8934\n",
      "Epoch 7/10\n",
      "10/10 [==============================] - 3s 300ms/step - loss: 0.3727 - acc: 0.9023\n",
      "Epoch 8/10\n",
      "10/10 [==============================] - 3s 322ms/step - loss: 0.3425 - acc: 0.9089\n",
      "Epoch 9/10\n",
      "10/10 [==============================] - 3s 305ms/step - loss: 0.3190 - acc: 0.9138\n",
      "Epoch 10/10\n",
      "10/10 [==============================] - 3s 304ms/step - loss: 0.2998 - acc: 0.9185\n",
      "Model evaluate\n",
      "10000/10000 [==============================] - 2s 197us/step\n"
     ]
    },
    {
     "data": {
      "text/plain": [
       "[0.2990068607926369, 0.92]"
      ]
     },
     "execution_count": 57,
     "metadata": {},
     "output_type": "execute_result"
    }
   ],
   "source": [
    "model = MnistNet()\n",
    "model.compile(optimizer = 'adam', loss = 'categorical_crossentropy', metrics=['accuracy'])\n",
    "callbacks = oneCallback()\n",
    "model.fit(x_train,\n",
    "          y_train,\n",
    "          epochs=10,\n",
    "          callbacks=[callbacks],\n",
    "          steps_per_epoch=10)\n",
    "print('Model evaluate')\n",
    "model.evaluate(x_test, y_test)"
   ]
  },
  {
   "cell_type": "markdown",
   "metadata": {},
   "source": [
    "#### CNN. Добавление сверточных слоев "
   ]
  },
  {
   "cell_type": "markdown",
   "metadata": {},
   "source": [
    "Меняем размерность данных, меняем loss на 'sparse_categorical_crossentropy'\n",
    "Модель достигает высоких результатов на первых итерациях с более высоким качеством на тесте"
   ]
  },
  {
   "cell_type": "code",
   "execution_count": 92,
   "metadata": {},
   "outputs": [],
   "source": [
    "x_train, y_train, x_test, y_test = prepare_mnist(slice=30000, flatten=False, cat=False)\n",
    "x_train=x_train.reshape(30000, 28, 28, 1)\n",
    "x_test=x_test.reshape(10000, 28, 28, 1)"
   ]
  },
  {
   "cell_type": "code",
   "execution_count": 103,
   "metadata": {},
   "outputs": [
    {
     "name": "stdout",
     "output_type": "stream",
     "text": [
      "Epoch 1/10\n",
      "30000/30000 [==============================] - 22s 722us/sample - loss: 0.1891 - acc: 0.9424\n",
      "Epoch 2/10\n",
      "30000/30000 [==============================] - 22s 742us/sample - loss: 0.0600 - acc: 0.9813\n",
      "Epoch 3/10\n",
      "30000/30000 [==============================] - 23s 752us/sample - loss: 0.0397 - acc: 0.9874\n",
      "Epoch 4/10\n",
      "30000/30000 [==============================] - 22s 737us/sample - loss: 0.0298 - acc: 0.9899\n",
      "Epoch 5/10\n",
      "30000/30000 [==============================] - 23s 755us/sample - loss: 0.0193 - acc: 0.9937\n",
      "Epoch 6/10\n",
      "30000/30000 [==============================] - 21s 715us/sample - loss: 0.0168 - acc: 0.9943 - loss: 0.0168 - acc:\n",
      "Epoch 7/10\n",
      "30000/30000 [==============================] - 26s 883us/sample - loss: 0.0137 - acc: 0.9957 - loss: 0.0138 - acc: 0. - ETA: 0s - loss: 0.0\n",
      "Epoch 8/10\n",
      "30000/30000 [==============================] - 22s 734us/sample - loss: 0.0088 - acc: 0.9968\n",
      "Epoch 9/10\n",
      "30000/30000 [==============================] - 21s 697us/sample - loss: 0.0099 - acc: 0.9968\n",
      "Epoch 10/10\n",
      "30000/30000 [==============================] - 23s 782us/sample - loss: 0.0084 - acc: 0.9973\n",
      "10000/10000 [==============================] - 3s 322us/sample - loss: 0.0524 - acc: 0.9876\n",
      "Wall time: 3min 54s\n"
     ]
    },
    {
     "data": {
      "text/plain": [
       "[0.05241489401019353, 0.9876]"
      ]
     },
     "execution_count": 103,
     "metadata": {},
     "output_type": "execute_result"
    }
   ],
   "source": [
    "%%time\n",
    "model = tf.keras.Sequential([\n",
    "  tf.keras.layers.Conv2D(16, (3,3), activation='relu', input_shape=(28, 28, 1)),\n",
    "  tf.keras.layers.MaxPooling2D(2, 2),\n",
    "  tf.keras.layers.Conv2D(64, (3,3), activation='relu'),\n",
    "  tf.keras.layers.MaxPooling2D(2,2),\n",
    "  tf.keras.layers.Flatten(),\n",
    "  tf.keras.layers.Dense(128, activation='relu'),\n",
    "  tf.keras.layers.Dense(10, activation='softmax')\n",
    "])\n",
    "\n",
    "callbacks = oneCallback() \n",
    "model.compile(optimizer='adam', loss='sparse_categorical_crossentropy', metrics=['accuracy'])\n",
    "model.fit(x_train,\n",
    "          y_train, \n",
    "          epochs=10)\n",
    "model.evaluate(x_test, y_test)"
   ]
  },
  {
   "cell_type": "code",
   "execution_count": 104,
   "metadata": {},
   "outputs": [
    {
     "name": "stdout",
     "output_type": "stream",
     "text": [
      "_________________________________________________________________\n",
      "Layer (type)                 Output Shape              Param #   \n",
      "=================================================================\n",
      "conv2d_48 (Conv2D)           (None, 26, 26, 16)        160       \n",
      "_________________________________________________________________\n",
      "max_pooling2d_48 (MaxPooling (None, 13, 13, 16)        0         \n",
      "_________________________________________________________________\n",
      "conv2d_49 (Conv2D)           (None, 11, 11, 64)        9280      \n",
      "_________________________________________________________________\n",
      "max_pooling2d_49 (MaxPooling (None, 5, 5, 64)          0         \n",
      "_________________________________________________________________\n",
      "flatten_23 (Flatten)         (None, 1600)              0         \n",
      "_________________________________________________________________\n",
      "dense_48 (Dense)             (None, 128)               204928    \n",
      "_________________________________________________________________\n",
      "dense_49 (Dense)             (None, 10)                1290      \n",
      "=================================================================\n",
      "Total params: 215,658\n",
      "Trainable params: 215,658\n",
      "Non-trainable params: 0\n",
      "_________________________________________________________________\n"
     ]
    }
   ],
   "source": [
    "model.summary()"
   ]
  },
  {
   "cell_type": "markdown",
   "metadata": {},
   "source": [
    "####  Conv LSTM example"
   ]
  },
  {
   "cell_type": "code",
   "execution_count": 6,
   "metadata": {},
   "outputs": [
    {
     "name": "stdout",
     "output_type": "stream",
     "text": [
      "Train on 950 samples, validate on 50 samples\n",
      "Epoch 1/3\n",
      "950/950 [==============================] - 977s 1s/step - loss: 0.2566 - val_loss: 0.0701\n",
      "Epoch 2/3\n",
      "950/950 [==============================] - 591s 623ms/step - loss: 0.0248 - val_loss: 0.0176\n",
      "Epoch 3/3\n",
      "950/950 [==============================] - 686s 722ms/step - loss: 0.0048 - val_loss: 0.0057\n"
     ]
    },
    {
     "data": {
      "image/png": "[encoded data removed]",
      "text/plain": [
       "<Figure size 720x360 with 2 Axes>"
      ]
     },
     "metadata": {
      "needs_background": "light"
     },
     "output_type": "display_data"
    },
    {
     "data": {
      "image/png": "[encoded data removed]",
      "text/plain": [
       "<Figure size 720x360 with 2 Axes>"
      ]
     },
     "metadata": {
      "needs_background": "light"
     },
     "output_type": "display_data"
    },
    {
     "data": {
      "image/png": "[encoded data removed]",
      "text/plain": [
       "<Figure size 720x360 with 2 Axes>"
      ]
     },
     "metadata": {
      "needs_background": "light"
     },
     "output_type": "display_data"
    },
    {
     "data": {
      "image/png": "[encoded data removed]",
      "text/plain": [
       "<Figure size 720x360 with 2 Axes>"
      ]
     },
     "metadata": {
      "needs_background": "light"
     },
     "output_type": "display_data"
    },
    {
     "data": {
      "image/png": "[encoded data removed]",
      "text/plain": [
       "<Figure size 720x360 with 2 Axes>"
      ]
     },
     "metadata": {
      "needs_background": "light"
     },
     "output_type": "display_data"
    },
    {
     "data": {
      "image/png": "[encoded data removed]",
      "text/plain": [
       "<Figure size 720x360 with 2 Axes>"
      ]
     },
     "metadata": {
      "needs_background": "light"
     },
     "output_type": "display_data"
    },
    {
     "data": {
      "image/png": "[encoded data removed]",
      "text/plain": [
       "<Figure size 720x360 with 2 Axes>"
      ]
     },
     "metadata": {
      "needs_background": "light"
     },
     "output_type": "display_data"
    },
    {
     "data": {
      "image/png": "[encoded data removed]",
      "text/plain": [
       "<Figure size 720x360 with 2 Axes>"
      ]
     },
     "metadata": {
      "needs_background": "light"
     },
     "output_type": "display_data"
    },
    {
     "data": {
      "image/png": "[encoded data removed]",
      "text/plain": [
       "<Figure size 720x360 with 2 Axes>"
      ]
     },
     "metadata": {
      "needs_background": "light"
     },
     "output_type": "display_data"
    },
    {
     "data": {
      "image/png": "[encoded data removed]",
      "text/plain": [
       "<Figure size 720x360 with 2 Axes>"
      ]
     },
     "metadata": {
      "needs_background": "light"
     },
     "output_type": "display_data"
    },
    {
     "data": {
      "image/png": "[encoded data removed]",
      "text/plain": [
       "<Figure size 720x360 with 2 Axes>"
      ]
     },
     "metadata": {
      "needs_background": "light"
     },
     "output_type": "display_data"
    },
    {
     "data": {
      "image/png": "[encoded data removed]",
      "text/plain": [
       "<Figure size 720x360 with 2 Axes>"
      ]
     },
     "metadata": {
      "needs_background": "light"
     },
     "output_type": "display_data"
    },
    {
     "data": {
      "image/png": "[encoded data removed]",
      "text/plain": [
       "<Figure size 720x360 with 2 Axes>"
      ]
     },
     "metadata": {
      "needs_background": "light"
     },
     "output_type": "display_data"
    },
    {
     "data": {
      "image/png": "[encoded data removed]",
      "text/plain": [
       "<Figure size 720x360 with 2 Axes>"
      ]
     },
     "metadata": {
      "needs_background": "light"
     },
     "output_type": "display_data"
    },
    {
     "data": {
      "image/png": "[encoded data removed]",
      "text/plain": [
       "<Figure size 720x360 with 2 Axes>"
      ]
     },
     "metadata": {
      "needs_background": "light"
     },
     "output_type": "display_data"
    }
   ],
   "source": [
    "from keras.models import Sequential\n",
    "from keras.layers.convolutional import Conv3D\n",
    "from keras.layers.convolutional_recurrent import ConvLSTM2D\n",
    "from keras.layers.normalization import BatchNormalization\n",
    "import numpy as np\n",
    "import pylab as plt\n",
    "\n",
    "# We create a layer which take as input movies of shape\n",
    "# (n_frames, width, height, channels) and returns a movie\n",
    "# of identical shape.\n",
    "\n",
    "seq = Sequential()\n",
    "seq.add(ConvLSTM2D(filters=40, kernel_size=(3, 3),\n",
    "                   input_shape=(None, 40, 40, 1),\n",
    "                   padding='same', return_sequences=True))\n",
    "seq.add(BatchNormalization())\n",
    "\n",
    "seq.add(ConvLSTM2D(filters=40, kernel_size=(3, 3),\n",
    "                   padding='same', return_sequences=True))\n",
    "seq.add(BatchNormalization())\n",
    "\n",
    "seq.add(ConvLSTM2D(filters=40, kernel_size=(3, 3),\n",
    "                   padding='same', return_sequences=True))\n",
    "seq.add(BatchNormalization())\n",
    "\n",
    "seq.add(ConvLSTM2D(filters=40, kernel_size=(3, 3),\n",
    "                   padding='same', return_sequences=True))\n",
    "seq.add(BatchNormalization())\n",
    "\n",
    "seq.add(Conv3D(filters=1, kernel_size=(3, 3, 3),\n",
    "               activation='sigmoid',\n",
    "               padding='same', data_format='channels_last'))\n",
    "seq.compile(loss='binary_crossentropy', optimizer='adadelta')\n",
    "\n",
    "\n",
    "# Artificial data generation:\n",
    "# Generate movies with 3 to 7 moving squares inside.\n",
    "# The squares are of shape 1x1 or 2x2 pixels,\n",
    "# which move linearly over time.\n",
    "# For convenience we first create movies with bigger width and height (80x80)\n",
    "# and at the end we select a 40x40 window.\n",
    "\n",
    "def generate_movies(n_samples=1200, n_frames=15):\n",
    "    row = 80\n",
    "    col = 80\n",
    "    noisy_movies = np.zeros((n_samples, n_frames, row, col, 1), dtype=np.float)\n",
    "    shifted_movies = np.zeros((n_samples, n_frames, row, col, 1),\n",
    "                              dtype=np.float)\n",
    "\n",
    "    for i in range(n_samples):\n",
    "        # Add 3 to 7 moving squares\n",
    "        n = np.random.randint(3, 8)\n",
    "\n",
    "        for j in range(n):\n",
    "            # Initial position\n",
    "            xstart = np.random.randint(20, 60)\n",
    "            ystart = np.random.randint(20, 60)\n",
    "            # Direction of motion\n",
    "            directionx = np.random.randint(0, 3) - 1\n",
    "            directiony = np.random.randint(0, 3) - 1\n",
    "\n",
    "            # Size of the square\n",
    "            w = np.random.randint(2, 4)\n",
    "\n",
    "            for t in range(n_frames):\n",
    "                x_shift = xstart + directionx * t\n",
    "                y_shift = ystart + directiony * t\n",
    "                noisy_movies[i, t, x_shift - w: x_shift + w,\n",
    "                             y_shift - w: y_shift + w, 0] += 1\n",
    "\n",
    "                # Make it more robust by adding noise.\n",
    "                # The idea is that if during inference,\n",
    "                # the value of the pixel is not exactly one,\n",
    "                # we need to train the network to be robust and still\n",
    "                # consider it as a pixel belonging to a square.\n",
    "                if np.random.randint(0, 2):\n",
    "                    noise_f = (-1)**np.random.randint(0, 2)\n",
    "                    noisy_movies[i, t,\n",
    "                                 x_shift - w - 1: x_shift + w + 1,\n",
    "                                 y_shift - w - 1: y_shift + w + 1,\n",
    "                                 0] += noise_f * 0.1\n",
    "\n",
    "                # Shift the ground truth by 1\n",
    "                x_shift = xstart + directionx * (t + 1)\n",
    "                y_shift = ystart + directiony * (t + 1)\n",
    "                shifted_movies[i, t, x_shift - w: x_shift + w,\n",
    "                               y_shift - w: y_shift + w, 0] += 1\n",
    "\n",
    "    # Cut to a 40x40 window\n",
    "    noisy_movies = noisy_movies[::, ::, 20:60, 20:60, ::]\n",
    "    shifted_movies = shifted_movies[::, ::, 20:60, 20:60, ::]\n",
    "    noisy_movies[noisy_movies >= 1] = 1\n",
    "    shifted_movies[shifted_movies >= 1] = 1\n",
    "    return noisy_movies, shifted_movies\n",
    "\n",
    "# Train the network\n",
    "noisy_movies, shifted_movies = generate_movies(n_samples=1200)\n",
    "seq.fit(noisy_movies[:1000], shifted_movies[:1000], batch_size=10,\n",
    "        epochs=3, validation_split=0.05)\n",
    "\n",
    "# Testing the network on one movie\n",
    "# feed it with the first 7 positions and then\n",
    "# predict the new positions\n",
    "which = 1004\n",
    "track = noisy_movies[which][:7, ::, ::, ::]\n",
    "\n",
    "for j in range(16):\n",
    "    new_pos = seq.predict(track[np.newaxis, ::, ::, ::, ::])\n",
    "    new = new_pos[::, -1, ::, ::, ::]\n",
    "    track = np.concatenate((track, new), axis=0)\n",
    "\n",
    "\n",
    "# And then compare the predictions\n",
    "# to the ground truth\n",
    "track2 = noisy_movies[which][::, ::, ::, ::]\n",
    "for i in range(15):\n",
    "    fig = plt.figure(figsize=(10, 5))\n",
    "\n",
    "    ax = fig.add_subplot(121)\n",
    "\n",
    "    if i >= 7:\n",
    "        ax.text(1, 3, 'Predictions !', fontsize=20, color='w')\n",
    "    else:\n",
    "        ax.text(1, 3, 'Initial trajectory', fontsize=20)\n",
    "\n",
    "    toplot = track[i, ::, ::, 0]\n",
    "\n",
    "    plt.imshow(toplot)\n",
    "    ax = fig.add_subplot(122)\n",
    "    plt.text(1, 3, 'Ground truth', fontsize=20)\n",
    "\n",
    "    toplot = track2[i, ::, ::, 0]\n",
    "    if i >= 2:\n",
    "        toplot = shifted_movies[which][i - 1, ::, ::, 0]\n",
    "\n",
    "    plt.imshow(toplot)\n",
    "    plt.savefig('%i_animate.png' % (i + 1))"
   ]
  },
  {
   "cell_type": "code",
   "execution_count": null,
   "metadata": {},
   "outputs": [],
   "source": []
  }
 ],
 "metadata": {
  "kernelspec": {
   "display_name": "Python 3",
   "language": "python",
   "name": "python3"
  },
  "language_info": {
   "codemirror_mode": {
    "name": "ipython",
    "version": 3
   },
   "file_extension": ".py",
   "mimetype": "text/x-python",
   "name": "python",
   "nbconvert_exporter": "python",
   "pygments_lexer": "ipython3",
   "version": "3.7.1"
  }
 },
 "nbformat": 4,
 "nbformat_minor": 4
}
