{
 "cells": [
  {
   "cell_type": "code",
   "execution_count": 80,
   "metadata": {
    "scrolled": false
   },
   "outputs": [
    {
     "name": "stdout",
     "output_type": "stream",
     "text": [
      "TF Version:  2.1.0\n",
      "Eager mode:  True\n",
      "GPU is available\n"
     ]
    }
   ],
   "source": [
    "from __future__ import absolute_import, division, print_function, unicode_literals\n",
    "import numpy as np\n",
    "import tensorflow as tf\n",
    "from tensorflow import keras\n",
    "import tensorflow_datasets as tfds\n",
    "import matplotlib.pyplot as plt\n",
    "\n",
    "print(\"TF Version: \", tf.__version__)\n",
    "print(\"Eager mode: \", tf.executing_eagerly())\n",
    "print(\"GPU is\", \"available\" if tf.config.experimental.list_physical_devices(\"GPU\") else \"NOT AVAILABLE\")"
   ]
  },
  {
   "cell_type": "code",
   "execution_count": 2,
   "metadata": {},
   "outputs": [
    {
     "name": "stderr",
     "output_type": "stream",
     "text": [
      "WARNING:absl:Warning: Setting shuffle_files=True because split=TRAIN and shuffle_files=None. This behavior will be deprecated on 2019-08-06, at which point shuffle_files=False will be the default for all splits.\n"
     ]
    }
   ],
   "source": [
    "# Разобьем обучающую выборку в пропорции 60% на 40%, и у нас будет 15,000 примеров\n",
    "# для обучения, 10,000 примеров для валидации и 25,000 примеров для проверки.\n",
    "# train_validation_split = tfds.Split.TRAIN.subsplit([6, 4])\n",
    "\n",
    "(train_data, test_data) = tfds.load(\n",
    "    name=\"imdb_reviews\", \n",
    "    split = (tfds.Split.TRAIN, tfds.Split.TEST),\n",
    "    as_supervised=True)"
   ]
  },
  {
   "cell_type": "code",
   "execution_count": 3,
   "metadata": {},
   "outputs": [
    {
     "data": {
      "text/plain": [
       "(<tf.Tensor: shape=(2,), dtype=string, numpy=\n",
       " array([b\"This was soul-provoking! I am an Iranian, and living in th 21st century, I didn't know that such big tribes have been living in such conditions at the time of my grandfather!<br /><br />You see that today, or even in 1925, on one side of the world a lady or a baby could have everything served for him or her clean and on-demand, but here 80 years ago, people ventured their life to go to somewhere with more grass. It's really interesting that these Persians bear those difficulties to find pasture for their sheep, but they lose many the sheep on their way.<br /><br />I praise the Americans who accompanied this tribe, they were as tough as Bakhtiari people.\",\n",
       "        b'Sitting down to watch the 14th season of the Bachelor (\"On the Wings of Love\"), I knew I would be in for an \"interesting\" time. I had watched some of the previous seasons of the Bachelor in passing; watching an episode or two and missing the next three or so. I find that the Bachelor is often appealing and intriguing, though its quality and morality are often lacking.<br /><br />\"On the Wings of Love\" details the journey taken by Jake, a 31 year old commercial pilot from Dallas, Texas, to find true love, as true a love as one can find in a season-long reality-drama dating show. Jake meets 25 beautiful girls from all over the country. He begins to get to know them a bit, but it is mostly superficial; how well can you get to know someone in a few 5 minute conversations? Jake tries to make his true intentions known from the very beginning, at least to the audience. He noted that he doesn\\'t just want love or a good time, but he wants a fianc\\xc3\\xa9 or wife. We can only assume that he has made this clear to the women in the competition as well. If that is the case, it might explain, to a degree, some of the women\\'s actions. The women are super competitive. While they don\\'t even know Jake at all yet, they are still in it to win it no matter what the cost.<br /><br />Not only were the women competitive, but they were also confident and catty. Threats, backstabbing, and warnings of \"Watch out!\" all show that these women weren\\'t there for a good time either. Jake noted that he was not just looking for sex appeal, but looking for \"a connection.\" However, the girls pulled out all the stops to try to impress Jake with said sex appeal. They arrived at the mansion in skimpy dresses \\xc2\\x96 either low-cut or short.<br /><br />While some girls seemed to maintain their sense of decorum, others missed that memo altogether. One girl, Channy, noted that Jake was a \"good guy\" to whom she could be a \"naughty girl.\" She went on to say that Jake could land on her \"runway anytime.\" She got flack from the other girls for her provocative statement which showed their take on these situations.<br /><br />So, a reality dating show couldn\\'t be that bad, could it? Besides the obvious issue of sex-driven attraction, there are other issues that mar this seemingly harmless show. Is this the right way to find a future mate; vying for someone\\'s attention by flaunting oneself to extreme proportions? Unfortunately, however, that is what America has reduced dating to these days: pleasure and sex without commitment and a little happiness on the side.<br /><br />Another problem is the premature emotional attachment by which many of the girls bound themselves to Jake. A few girls in particular seemed to be overly attached. One girl said \"If I don\\'t get that first impression rose it will kill me!\" As mentioned before, they don\\'t even know him yet and she was talking about a specific rose, not just one of the 15 roses to keep from being eliminated.<br /><br />Michelle, in particular, seemed to have some issues with attachment to Jake. The other girls noticed it too. After one particular Michelle outburst, Vienna asserted that Michelle had a \"mental breakdown and we\\'ve only been here an hour.\" Michelle got the last rose of the evening on the first show \\xc2\\x96 narrowly missing elimination \\xc2\\x96 and was extremely emotional about it. The other girls thought it was simply ridiculous. Another girl also cried, but because she was eliminated.<br /><br />It began with Survivor, and from there it just took off \\xc2\\x96 reality TV. It shows our entertainment interests as a country; if we weren\\'t watching the shows and giving them good ratings, the networks would not continue to run them. The only logical conclusion that can be drawn is that enough of America is hooked. One thing is clear: America (in general) loves reality TV and its ensuing trappings.<br /><br />This begs me to question: why is it that we even like reality TV? What is it about it that draws us to it? Is it because we see the similarities to our own lives, or is it because we want to be sure that we are more stable and less pathetic than others? Whatever it is that draws us to it, we should be careful of the media and entertainment that we allow to fill our minds. I\\'m not saying that all reality TV shows are bad; however, I am saying that we need to evaluate each one.<br /><br />Episodes used for critique: Season Premier and Episode 2.'],\n",
       "       dtype=object)>,\n",
       " <tf.Tensor: shape=(2,), dtype=int64, numpy=array([1, 0], dtype=int64)>)"
      ]
     },
     "execution_count": 3,
     "metadata": {},
     "output_type": "execute_result"
    }
   ],
   "source": [
    "# Пример текста\n",
    "test_label_example = next(iter(train_data.batch(2)))\n",
    "test_label_example"
   ]
  },
  {
   "cell_type": "code",
   "execution_count": 37,
   "metadata": {},
   "outputs": [],
   "source": [
    "def tokenize(tf_data):\n",
    "    # Разбивка предложений на токены\n",
    "    tokenizer = tfds.features.text.Tokenizer()\n",
    "    # Создание и заполнение словаря токенами\n",
    "    vocabulary_set = set()\n",
    "    for data_sample in tf_data:\n",
    "        for text_tensor, _ in data_sample:\n",
    "            some_tokens = tokenizer.tokenize(text_tensor.numpy())\n",
    "            vocabulary_set.update(some_tokens)\n",
    "    vocab_size = len(vocabulary_set)\n",
    "    print(f'Created vocab with {vocab_size} entries')\n",
    "    return vocabulary_set, vocab_size\n",
    "\n",
    "\n",
    "def encode(text_tensor, label):\n",
    "    encoded_text = encoder.encode(text_tensor.numpy())\n",
    "    return encoded_text, label\n",
    "\n",
    "def encode_map_fn(text, label):\n",
    "  # py_func doesn't set the shape of the returned tensors.\n",
    "    encoded_text, label = tf.py_function(encode,\n",
    "                                         inp=[text, label], \n",
    "                                         Tout=(tf.int64, tf.int64))\n",
    "\n",
    "  # `tf.data.Datasets` work best if all components have a shape set\n",
    "  #  so set the shapes manually: \n",
    "    encoded_text.set_shape([None])\n",
    "    label.set_shape([])\n",
    "\n",
    "    return encoded_text, label"
   ]
  },
  {
   "cell_type": "code",
   "execution_count": 38,
   "metadata": {},
   "outputs": [
    {
     "name": "stdout",
     "output_type": "stream",
     "text": [
      "Created vocab with 130065 entries\n"
     ]
    }
   ],
   "source": [
    "vocabulary, vocab_size = tokenize((train_data, test_data))"
   ]
  },
  {
   "cell_type": "code",
   "execution_count": 39,
   "metadata": {},
   "outputs": [],
   "source": [
    "encoder = tfds.features.text.TokenTextEncoder(vocabulary)"
   ]
  },
  {
   "cell_type": "code",
   "execution_count": 40,
   "metadata": {},
   "outputs": [],
   "source": [
    "# Кодирование данных\n",
    "encoded_train_data = train_data.map(encode_map_fn)\n",
    "encoded_test_data = test_data.map(encode_map_fn)"
   ]
  },
  {
   "cell_type": "code",
   "execution_count": 70,
   "metadata": {},
   "outputs": [
    {
     "data": {
      "text/plain": [
       "<MapDataset shapes: ((None,), ()), types: (tf.int64, tf.int64)>"
      ]
     },
     "execution_count": 70,
     "metadata": {},
     "output_type": "execute_result"
    }
   ],
   "source": [
    "encoded_train_data.padded_batch()"
   ]
  },
  {
   "cell_type": "code",
   "execution_count": 41,
   "metadata": {},
   "outputs": [],
   "source": [
    "# sample_text, sample_labels = next(iter(encoded_train_data))"
   ]
  },
  {
   "cell_type": "code",
   "execution_count": 42,
   "metadata": {},
   "outputs": [],
   "source": [
    "vocab_size += 1"
   ]
  },
  {
   "cell_type": "code",
   "execution_count": 72,
   "metadata": {},
   "outputs": [],
   "source": [
    "BUFFER_SIZE = 1000\n",
    "\n",
    "train_batches = (\n",
    "    encoded_train_data\n",
    "    .shuffle(BUFFER_SIZE)\n",
    "    .padded_batch(32, padded_shapes=([None],[])))\n",
    "\n",
    "test_batches = (\n",
    "    encoded_test_data\n",
    "    .padded_batch(32, padded_shapes=([None],[])))"
   ]
  },
  {
   "cell_type": "code",
   "execution_count": 74,
   "metadata": {},
   "outputs": [
    {
     "name": "stdout",
     "output_type": "stream",
     "text": [
      "Batch shape: (32, 830)\n",
      "label shape: (32,)\n",
      "Batch shape: (32, 866)\n",
      "label shape: (32,)\n"
     ]
    }
   ],
   "source": [
    "for example_batch, label_batch in train_batches.take(2):\n",
    "    print(\"Batch shape:\", example_batch.shape)\n",
    "    print(\"label shape:\", label_batch.shape)"
   ]
  },
  {
   "cell_type": "markdown",
   "metadata": {},
   "source": [
    "Embedding layer. Принимает закодированный encoder-ом словарь из цифр и создает признаковый вектор для каждого слова. По мере обучения модели, количество таких векторов увеличивается, добавляясь в выход слоя.\n",
    "\n",
    "GlobalAveragePooling1D layer - создает векторы фиксированной длины за счет усреднения размеров последовательности. Слой имеет 16 скрытых нейронов.\n",
    "\n",
    "На выходе полносвязный слой с 1 нейроном"
   ]
  },
  {
   "cell_type": "code",
   "execution_count": 83,
   "metadata": {},
   "outputs": [
    {
     "name": "stdout",
     "output_type": "stream",
     "text": [
      "Model: \"sequential_3\"\n",
      "_________________________________________________________________\n",
      "Layer (type)                 Output Shape              Param #   \n",
      "=================================================================\n",
      "embedding_3 (Embedding)      (None, None, 16)          2081072   \n",
      "_________________________________________________________________\n",
      "global_average_pooling1d_1 ( (None, 16)                0         \n",
      "_________________________________________________________________\n",
      "dense_7 (Dense)              (None, 1)                 17        \n",
      "=================================================================\n",
      "Total params: 2,081,089\n",
      "Trainable params: 2,081,089\n",
      "Non-trainable params: 0\n",
      "_________________________________________________________________\n"
     ]
    }
   ],
   "source": [
    "model = keras.Sequential([\n",
    "  keras.layers.Embedding(encoder.vocab_size, 16),\n",
    "  keras.layers.GlobalAveragePooling1D(),\n",
    "  keras.layers.Dense(1)])\n",
    "\n",
    "model.summary()"
   ]
  },
  {
   "cell_type": "code",
   "execution_count": 85,
   "metadata": {},
   "outputs": [
    {
     "name": "stdout",
     "output_type": "stream",
     "text": [
      "Epoch 1/10\n",
      "782/782 [==============================] - 46s 59ms/step - loss: 0.6767 - accuracy: 0.5022 - val_loss: 0.6475 - val_accuracy: 0.5125\n",
      "Epoch 2/10\n",
      "782/782 [==============================] - 44s 56ms/step - loss: 0.5904 - accuracy: 0.5907 - val_loss: 0.5543 - val_accuracy: 0.6187\n",
      "Epoch 3/10\n",
      "782/782 [==============================] - 45s 58ms/step - loss: 0.4909 - accuracy: 0.7291 - val_loss: 0.4767 - val_accuracy: 0.7823\n",
      "Epoch 4/10\n",
      "782/782 [==============================] - 45s 57ms/step - loss: 0.4150 - accuracy: 0.8103 - val_loss: 0.4195 - val_accuracy: 0.8031\n",
      "Epoch 5/10\n",
      "782/782 [==============================] - 46s 58ms/step - loss: 0.3615 - accuracy: 0.8490 - val_loss: 0.3784 - val_accuracy: 0.8208\n",
      "Epoch 6/10\n",
      "782/782 [==============================] - 46s 59ms/step - loss: 0.3188 - accuracy: 0.8744 - val_loss: 0.3469 - val_accuracy: 0.8542\n",
      "Epoch 7/10\n",
      "782/782 [==============================] - 45s 58ms/step - loss: 0.2847 - accuracy: 0.8898 - val_loss: 0.3232 - val_accuracy: 0.8677\n",
      "Epoch 8/10\n",
      "782/782 [==============================] - 47s 60ms/step - loss: 0.2607 - accuracy: 0.9023 - val_loss: 0.3058 - val_accuracy: 0.8604\n",
      "Epoch 9/10\n",
      "782/782 [==============================] - 46s 59ms/step - loss: 0.2365 - accuracy: 0.9129 - val_loss: 0.2931 - val_accuracy: 0.8583\n",
      "Epoch 10/10\n",
      "782/782 [==============================] - 46s 59ms/step - loss: 0.2178 - accuracy: 0.9202 - val_loss: 0.2783 - val_accuracy: 0.8833\n"
     ]
    }
   ],
   "source": [
    "model.compile(optimizer='adam',\n",
    "              loss=tf.losses.BinaryCrossentropy(from_logits=True),\n",
    "              metrics=['accuracy'])\n",
    "\n",
    "history = model.fit(train_batches,\n",
    "                    epochs=10,\n",
    "                    validation_data=test_batches,\n",
    "                    validation_steps=30)\n",
    "\n",
    "loss, accuracy = model.evaluate(test_batches)\n",
    "\n",
    "print(\"Loss: \", loss)\n",
    "print(\"Accuracy: \", accuracy)"
   ]
  },
  {
   "cell_type": "code",
   "execution_count": 90,
   "metadata": {},
   "outputs": [],
   "source": [
    "def get_accuracy_plots(history):\n",
    "    \n",
    "    \"\"\"Plots accuracy-loss training profile\"\"\"\n",
    "    \n",
    "    history_dict = history.history\n",
    "    # history_dict.keys()\n",
    "    \n",
    "    acc = history_dict['accuracy']\n",
    "    val_acc = history_dict['val_accuracy']\n",
    "    loss = history_dict['loss']\n",
    "    val_loss = history_dict['val_loss']\n",
    "    epochs = range(1, len(acc) + 1)\n",
    "    # \"bo\" is for \"blue dot\"\n",
    "    plt.plot(epochs, loss, 'bo', label='Training loss')\n",
    "    # b is for \"solid blue line\"\n",
    "    plt.plot(epochs, val_loss, 'b', label='Validation loss')\n",
    "    plt.title('Training and validation loss')\n",
    "    plt.xlabel('Epochs')\n",
    "    plt.ylabel('Loss')\n",
    "    plt.legend()\n",
    "    plt.show()\n",
    "    \n",
    "    plt.clf()   # clear figure\n",
    "\n",
    "    plt.plot(epochs, acc, 'bo', label='Training acc')\n",
    "    plt.plot(epochs, val_acc, 'b', label='Validation acc')\n",
    "    plt.title('Training and validation accuracy')\n",
    "    plt.xlabel('Epochs')\n",
    "    plt.ylabel('Accuracy')\n",
    "    plt.legend(loc='lower right')\n",
    "\n",
    "    plt.show()\n"
   ]
  },
  {
   "cell_type": "code",
   "execution_count": 91,
   "metadata": {},
   "outputs": [
    {
     "data": {
      "image/png": "[encoded data removed]",
      "text/plain": [
       "<Figure size 432x288 with 1 Axes>"
      ]
     },
     "metadata": {
      "needs_background": "light"
     },
     "output_type": "display_data"
    },
    {
     "data": {
      "image/png": "[encoded data removed]",
      "text/plain": [
       "<Figure size 432x288 with 1 Axes>"
      ]
     },
     "metadata": {
      "needs_background": "light"
     },
     "output_type": "display_data"
    }
   ],
   "source": [
    "get_accuracy_plots(history)"
   ]
  },
  {
   "cell_type": "markdown",
   "metadata": {},
   "source": [
    "Увеличим количество параметров в ~2.5 раз за счет добавления скрытых нейронов. В модели стали более заметны признаки переобучения."
   ]
  },
  {
   "cell_type": "code",
   "execution_count": 107,
   "metadata": {},
   "outputs": [
    {
     "name": "stdout",
     "output_type": "stream",
     "text": [
      "Model: \"sequential_9\"\n",
      "_________________________________________________________________\n",
      "Layer (type)                 Output Shape              Param #   \n",
      "=================================================================\n",
      "embedding_6 (Embedding)      (None, None, 40)          5202680   \n",
      "_________________________________________________________________\n",
      "global_average_pooling1d_4 ( (None, 40)                0         \n",
      "_________________________________________________________________\n",
      "dense_16 (Dense)             (None, 1)                 41        \n",
      "=================================================================\n",
      "Total params: 5,202,721\n",
      "Trainable params: 5,202,721\n",
      "Non-trainable params: 0\n",
      "_________________________________________________________________\n"
     ]
    }
   ],
   "source": [
    "model = keras.Sequential([\n",
    "  keras.layers.Embedding(encoder.vocab_size, 40),\n",
    "  keras.layers.GlobalAveragePooling1D(),\n",
    "  keras.layers.Dense(1)])\n",
    "\n",
    "model.summary()"
   ]
  },
  {
   "cell_type": "code",
   "execution_count": 108,
   "metadata": {},
   "outputs": [
    {
     "name": "stdout",
     "output_type": "stream",
     "text": [
      "Epoch 1/10\n",
      "782/782 [==============================] - 82s 105ms/step - loss: 0.6593 - accuracy: 0.5176 - val_loss: 0.6031 - val_accuracy: 0.5479\n",
      "Epoch 2/10\n",
      "782/782 [==============================] - 82s 105ms/step - loss: 0.5186 - accuracy: 0.6913 - val_loss: 0.4743 - val_accuracy: 0.7635\n",
      "Epoch 3/10\n",
      "782/782 [==============================] - 82s 105ms/step - loss: 0.4015 - accuracy: 0.8186 - val_loss: 0.3935 - val_accuracy: 0.8083\n",
      "Epoch 4/10\n",
      "782/782 [==============================] - 83s 106ms/step - loss: 0.3288 - accuracy: 0.8678 - val_loss: 0.3452 - val_accuracy: 0.8313\n",
      "Epoch 5/10\n",
      "782/782 [==============================] - 83s 106ms/step - loss: 0.2794 - accuracy: 0.8928 - val_loss: 0.3129 - val_accuracy: 0.8573\n",
      "Epoch 6/10\n",
      "782/782 [==============================] - 79s 101ms/step - loss: 0.2445 - accuracy: 0.9093 - val_loss: 0.2882 - val_accuracy: 0.8823\n",
      "Epoch 7/10\n",
      "782/782 [==============================] - 79s 101ms/step - loss: 0.2186 - accuracy: 0.9207 - val_loss: 0.2803 - val_accuracy: 0.8542\n",
      "Epoch 8/10\n",
      "782/782 [==============================] - 79s 101ms/step - loss: 0.1946 - accuracy: 0.9321 - val_loss: 0.2592 - val_accuracy: 0.8927\n",
      "Epoch 9/10\n",
      "782/782 [==============================] - 80s 103ms/step - loss: 0.1738 - accuracy: 0.9418 - val_loss: 0.2507 - val_accuracy: 0.8958\n",
      "Epoch 10/10\n",
      "782/782 [==============================] - 78s 100ms/step - loss: 0.1555 - accuracy: 0.9479 - val_loss: 0.2500 - val_accuracy: 0.8813\n",
      "    782/Unknown - 37s 47ms/step - loss: 0.2899 - accuracy: 0.8704- 36s 47ms/step - loss: 0.2898 - accuracy: Loss:  0.2898760155138686\n",
      "Accuracy:  0.8704\n"
     ]
    }
   ],
   "source": [
    "model.compile(optimizer='adam',\n",
    "              loss=tf.losses.BinaryCrossentropy(from_logits=True),\n",
    "              metrics=['accuracy'])\n",
    "\n",
    "history = model.fit(train_batches,\n",
    "                    epochs=10,\n",
    "                    validation_data=test_batches,\n",
    "                    validation_steps=30)\n",
    "\n",
    "loss, accuracy = model.evaluate(test_batches)\n",
    "\n",
    "print(\"Loss: \", loss)\n",
    "print(\"Accuracy: \", accuracy)"
   ]
  },
  {
   "cell_type": "code",
   "execution_count": 109,
   "metadata": {},
   "outputs": [
    {
     "data": {
      "image/png": "[encoded data removed]",
      "text/plain": [
       "<Figure size 432x288 with 1 Axes>"
      ]
     },
     "metadata": {
      "needs_background": "light"
     },
     "output_type": "display_data"
    },
    {
     "data": {
      "image/png": "[encoded data removed]",
      "text/plain": [
       "<Figure size 432x288 with 1 Axes>"
      ]
     },
     "metadata": {
      "needs_background": "light"
     },
     "output_type": "display_data"
    }
   ],
   "source": [
    "get_accuracy_plots(history)"
   ]
  },
  {
   "cell_type": "code",
   "execution_count": null,
   "metadata": {},
   "outputs": [],
   "source": []
  },
  {
   "cell_type": "code",
   "execution_count": null,
   "metadata": {},
   "outputs": [],
   "source": []
  }
 ],
 "metadata": {
  "kernelspec": {
   "display_name": "Python 3",
   "language": "python",
   "name": "python3"
  },
  "language_info": {
   "codemirror_mode": {
    "name": "ipython",
    "version": 3
   },
   "file_extension": ".py",
   "mimetype": "text/x-python",
   "name": "python",
   "nbconvert_exporter": "python",
   "pygments_lexer": "ipython3",
   "version": "3.7.6"
  }
 },
 "nbformat": 4,
 "nbformat_minor": 4
}
